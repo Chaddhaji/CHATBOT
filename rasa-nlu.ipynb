{
 "cells": [
  {
   "cell_type": "code",
   "execution_count": 3,
   "metadata": {},
   "outputs": [],
   "source": [
    "from rasa_nlu.training_data import load_data\n",
    "from rasa_nlu.model import Trainer\n",
    "from rasa_nlu import config\n",
    "from rasa_nlu.model import Interpreter\n",
    "\n",
    "def train_horoscopebot(data_json, config_file, model_dir):\n",
    "    training_data = load_data(data_json)\n",
    "    trainer = Trainer(config.load(config_file))\n",
    "    trainer.train(training_data)\n",
    "    model_directory = trainer.persist(model_dir, fixed_model_name = 'horoscopebot')\n",
    "    \n",
    "def predict_intent(text):\n",
    "    interpreter = Interpreter.load('./models/nlu/default/horoscopebot')\n",
    "    print(interpreter.parse(text))\n",
    "    "
   ]
  },
  {
   "cell_type": "code",
   "execution_count": 4,
   "metadata": {
    "scrolled": true
   },
   "outputs": [
    {
     "name": "stderr",
     "output_type": "stream",
     "text": [
      "/home/yuvi/anaconda3/lib/python3.6/site-packages/rasa_nlu/training_data/training_data.py:191: UserWarning: Intent 'greeting' has only 1 training examples! Minimum is 2, training may fail.\n",
      "  self.MIN_EXAMPLES_PER_INTENT))\n",
      "/home/yuvi/anaconda3/lib/python3.6/site-packages/rasa_nlu/training_data/training_data.py:191: UserWarning: Intent 'subscription' has only 1 training examples! Minimum is 2, training may fail.\n",
      "  self.MIN_EXAMPLES_PER_INTENT))\n",
      "/home/yuvi/anaconda3/lib/python3.6/site-packages/rasa_nlu/training_data/training_data.py:191: UserWarning: Intent 'dob_intent' has only 1 training examples! Minimum is 2, training may fail.\n",
      "  self.MIN_EXAMPLES_PER_INTENT))\n",
      "/home/yuvi/anaconda3/lib/python3.6/site-packages/rasa_nlu/training_data/training_data.py:199: UserWarning: Entity 'DD' has only 1 training examples! minimum is 2, training may fail.\n",
      "  self.MIN_EXAMPLES_PER_ENTITY))\n",
      "/home/yuvi/anaconda3/lib/python3.6/site-packages/rasa_nlu/training_data/training_data.py:199: UserWarning: Entity 'MM' has only 1 training examples! minimum is 2, training may fail.\n",
      "  self.MIN_EXAMPLES_PER_ENTITY))\n",
      "Epochs: 100%|██████████| 300/300 [00:01<00:00, 164.09it/s, loss=0.094, acc=1.000]\n"
     ]
    }
   ],
   "source": [
    "train_horoscopebot('./data/data.json','config.json','./models/nlu')"
   ]
  },
  {
   "cell_type": "code",
   "execution_count": 6,
   "metadata": {},
   "outputs": [
    {
     "name": "stderr",
     "output_type": "stream",
     "text": [
      "/home/yuvi/anaconda3/lib/python3.6/site-packages/rasa_nlu/extractors/entity_synonyms.py:85: UserWarning: Failed to load synonyms file from './models/nlu/default/horoscopebot/entity_synonyms.json'\n",
      "  \"\".format(entity_synonyms_file))\n"
     ]
    },
    {
     "name": "stdout",
     "output_type": "stream",
     "text": [
      "INFO:tensorflow:Restoring parameters from ./models/nlu/default/horoscopebot/intent_classifier_tensorflow_embedding.ckpt\n",
      "{'intent': {'name': 'get_horoscope', 'confidence': 0.9583519697189331}, 'entities': [], 'intent_ranking': [{'name': 'get_horoscope', 'confidence': 0.9583519697189331}, {'name': 'greeting', 'confidence': 0.1342383176088333}, {'name': 'dob_intent', 'confidence': 0.0}, {'name': 'subscription', 'confidence': 0.0}], 'text': 'i am looking for my horoscope today. i am wondering if you can tell me that'}\n"
     ]
    }
   ],
   "source": [
    "predict_intent(\"i am looking for my horoscope today. i am wondering if you can tell me that\")"
   ]
  },
  {
   "cell_type": "raw",
   "metadata": {},
   "source": []
  },
  {
   "cell_type": "code",
   "execution_count": null,
   "metadata": {},
   "outputs": [],
   "source": []
  },
  {
   "cell_type": "code",
   "execution_count": null,
   "metadata": {},
   "outputs": [],
   "source": []
  }
 ],
 "metadata": {
  "kernelspec": {
   "display_name": "Python 3",
   "language": "python",
   "name": "python3"
  },
  "language_info": {
   "codemirror_mode": {
    "name": "ipython",
    "version": 3
   },
   "file_extension": ".py",
   "mimetype": "text/x-python",
   "name": "python",
   "nbconvert_exporter": "python",
   "pygments_lexer": "ipython3",
   "version": "3.6.5"
  }
 },
 "nbformat": 4,
 "nbformat_minor": 2
}
